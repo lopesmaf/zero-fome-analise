{
 "cells": [
  {
   "cell_type": "markdown",
   "metadata": {},
   "source": [
    "## Analise de Dados - Empresa Zero Fome"
   ]
  },
  {
   "cell_type": "markdown",
   "metadata": {},
   "source": [
    "\n",
    "### Contexto do negócio"
   ]
  },
  {
   "cell_type": "markdown",
   "metadata": {},
   "source": [
    "Você acaba de ser contratado como Cientista de Dados da empresa\n",
    "Fome Zero, e a sua principal tarefa nesse momento é ajudar o CEO Kleiton Guerra\n",
    "a identificar pontos chaves da empresa, respondendo às perguntas que ele fizer\n",
    "utilizando dados!\n",
    "A empresa Fome Zero é uma marketplace de restaurantes. Ou seja, seu core\n",
    "business é facilitar o encontro e negociações de clientes e restaurantes. Os\n",
    "restaurantes fazem o cadastro dentro da plataforma da Fome Zero, que disponibiliza\n",
    "informações como endereço, tipo de culinária servida, se possui reservas, se faz\n",
    "entregas e também uma nota de avaliação dos serviços e produtos do restaurante,\n",
    "dentre outras informações."
   ]
  },
  {
   "cell_type": "markdown",
   "metadata": {},
   "source": [
    "### Problema de negócio"
   ]
  },
  {
   "cell_type": "markdown",
   "metadata": {},
   "source": [
    "O CEO Guerra também foi recém contratado e precisa entender melhor o negócio\n",
    "para conseguir tomar as melhores decisões estratégicas e alavancar ainda mais a\n",
    "Fome Zero, e para isso, ele precisa que seja feita uma análise nos dados da\n",
    "empresa e que sejam gerados dashboards, a partir dessas análises, para responder\n",
    "algumas perguntas."
   ]
  },
  {
   "cell_type": "markdown",
   "metadata": {},
   "source": [
    "### Importando bibliotecas e Funções"
   ]
  },
  {
   "cell_type": "code",
   "execution_count": 1,
   "metadata": {},
   "outputs": [],
   "source": [
    "import pandas as pd\n",
    "import numpy as np\n",
    "import seaborn as sns\n",
    "import matplotlib.pyplot as plt\n",
    "import plotly.express as px"
   ]
  },
  {
   "cell_type": "markdown",
   "metadata": {},
   "source": [
    "### Descrevendo os dados"
   ]
  },
  {
   "cell_type": "code",
   "execution_count": null,
   "metadata": {},
   "outputs": [],
   "source": []
  },
  {
   "cell_type": "markdown",
   "metadata": {},
   "source": [
    "### Analise dos dados - respondendo perguntas "
   ]
  },
  {
   "cell_type": "markdown",
   "metadata": {},
   "source": [
    "Geral"
   ]
  },
  {
   "cell_type": "markdown",
   "metadata": {},
   "source": [
    "\n",
    "1. Quantos restaurantes únicos estão registrados?\n",
    "2. Quantos países únicos estão registrados?\n",
    "3. Quantas cidades únicas estão registradas?\n",
    "4. Qual o total de avaliações feitas?\n",
    "5. Qual o total de tipos de culinária registrados?"
   ]
  },
  {
   "cell_type": "markdown",
   "metadata": {},
   "source": [
    "Pais\n",
    "1. Qual o nome do país que possui mais cidades registradas?\n",
    "2. Qual o nome do país que possui mais restaurantes registrados?\n",
    "3. Qual o nome do país que possui mais restaurantes com o nível de preço igual a 4\n",
    "registrados?\n",
    "4. Qual o nome do país que possui a maior quantidade de tipos de culinária\n",
    "distintos?\n",
    "5. Qual o nome do país que possui a maior quantidade de avaliações feitas?\n",
    "6. Qual o nome do país que possui a maior quantidade de restaurantes que fazem\n",
    "entrega?\n",
    "7. Qual o nome do país que possui a maior quantidade de restaurantes que aceitam\n",
    "reservas?\n",
    "8. Qual o nome do país que possui, na média, a maior quantidade de avaliações\n",
    "registrada?\n",
    "9. Qual o nome do país que possui, na média, a maior nota média registrada?\n",
    "10. Qual o nome do país que possui, na média, a menor nota média registrada?\n",
    "11. Qual a média de preço de um prato para dois por país?"
   ]
  },
  {
   "cell_type": "markdown",
   "metadata": {},
   "source": [
    "Cidade\n",
    "1. Qual o nome da cidade que possui mais restaurantes registrados?\n",
    "2. Qual o nome da cidade que possui mais restaurantes com nota média acima de\n",
    "4?\n",
    "3. Qual o nome da cidade que possui mais restaurantes com nota média abaixo de\n",
    "2.5?\n",
    "4. Qual o nome da cidade que possui o maior valor médio de um prato para dois?\n",
    "5. Qual o nome da cidade que possui a maior quantidade de tipos de culinária\n",
    "distintas?\n",
    "6. Qual o nome da cidade que possui a maior quantidade de restaurantes que fazem\n",
    "reservas?\n",
    "7. Qual o nome da cidade que possui a maior quantidade de restaurantes que fazem\n",
    "entregas?\n",
    "8. Qual o nome da cidade que possui a maior quantidade de restaurantes que\n",
    "aceitam pedidos online?"
   ]
  },
  {
   "cell_type": "markdown",
   "metadata": {},
   "source": [
    "Restaurantes\n",
    "1. Qual o nome do restaurante que possui a maior quantidade de avaliações?\n",
    "2. Qual o nome do restaurante com a maior nota média?\n",
    "3. Qual o nome do restaurante que possui o maior valor de uma prato para duas\n",
    "pessoas?\n",
    "4. Qual o nome do restaurante de tipo de culinária brasileira que possui a menor\n",
    "média de avaliação?\n",
    "5. Qual o nome do restaurante de tipo de culinária brasileira, e que é do Brasil, que\n",
    "possui a maior média de avaliação?\n",
    "6. Os restaurantes que aceitam pedido online são também, na média, os\n",
    "restaurantes que mais possuem avaliações registradas?\n",
    "7. Os restaurantes que fazem reservas são também, na média, os restaurantes que\n",
    "possuem o maior valor médio de um prato para duas pessoas?\n",
    "8. Os restaurantes do tipo de culinária japonesa dos Estados Unidos da América\n",
    "possuem um valor médio de prato para duas pessoas maior que as churrascarias\n",
    "americanas (BBQ)?"
   ]
  },
  {
   "cell_type": "markdown",
   "metadata": {},
   "source": [
    "Tipos de Culinária\n",
    "1. Dos restaurantes que possuem o tipo de culinária italiana, qual o nome do\n",
    "restaurante com a maior média de avaliação?\n",
    "2. Dos restaurantes que possuem o tipo de culinária italiana, qual o nome do\n",
    "restaurante com a menor média de avaliação?\n",
    "3. Dos restaurantes que possuem o tipo de culinária americana, qual o nome do\n",
    "restaurante com a maior média de avaliação?\n",
    "4. Dos restaurantes que possuem o tipo de culinária americana, qual o nome do\n",
    "restaurante com a menor média de avaliação?\n",
    "5. Dos restaurantes que possuem o tipo de culinária árabe, qual o nome do\n",
    "restaurante com a maior média de avaliação?\n",
    "6. Dos restaurantes que possuem o tipo de culinária árabe, qual o nome do\n",
    "restaurante com a menor média de avaliação?\n",
    "7. Dos restaurantes que possuem o tipo de culinária japonesa, qual o nome do\n",
    "restaurante com a maior média de avaliação?\n",
    "8. Dos restaurantes que possuem o tipo de culinária japonesa, qual o nome do\n",
    "restaurante com a menor média de avaliação?\n",
    "9. Dos restaurantes que possuem o tipo de culinária caseira, qual o nome do\n",
    "restaurante com a maior média de avaliação?\n",
    "10. Dos restaurantes que possuem o tipo de culinária caseira, qual o nome do\n",
    "restaurante com a menor média de avaliação?\n",
    "11. Qual o tipo de culinária que possui o maior valor médio de um prato para duas\n",
    "pessoas?\n",
    "12. Qual o tipo de culinária que possui a maior nota média?\n",
    "13. Qual o tipo de culinária que possui mais restaurantes que aceitam pedidos\n",
    "online e fazem entregas?"
   ]
  },
  {
   "cell_type": "markdown",
   "metadata": {},
   "source": []
  }
 ],
 "metadata": {
  "kernelspec": {
   "display_name": "base",
   "language": "python",
   "name": "python3"
  },
  "language_info": {
   "codemirror_mode": {
    "name": "ipython",
    "version": 3
   },
   "file_extension": ".py",
   "mimetype": "text/x-python",
   "name": "python",
   "nbconvert_exporter": "python",
   "pygments_lexer": "ipython3",
   "version": "3.8.18"
  }
 },
 "nbformat": 4,
 "nbformat_minor": 2
}
